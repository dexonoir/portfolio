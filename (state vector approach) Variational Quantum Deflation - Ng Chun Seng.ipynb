{
 "cells": [
  {
   "cell_type": "markdown",
   "id": "d30da38e",
   "metadata": {},
   "source": [
    "# Variational Quantum Deflation - Ng Chun Seng"
   ]
  },
  {
   "cell_type": "markdown",
   "id": "2ccf9669",
   "metadata": {},
   "source": [
    "Here, I propose a framework to perform Variational Quantum Deflation (VQD) in order to calculate excited states of Acrolein molecule. -- _without using predefined VQD algorithms_"
   ]
  },
  {
   "cell_type": "markdown",
   "id": "3de89986",
   "metadata": {},
   "source": [
    "## Procedure"
   ]
  },
  {
   "cell_type": "markdown",
   "id": "d9e5e429",
   "metadata": {},
   "source": [
    "Using PySCF and OpenFermion libraries (running on Linux subsystem), I have \n",
    "- Generated (6-qubits truncated) Qubit Hamiltonian from full-spectrum second-quantized Fermionic Hamiltonian via freezing of occupied spin orbitals "
   ]
  },
  {
   "cell_type": "markdown",
   "id": "33f77516",
   "metadata": {},
   "source": [
    "Let's first initialize the dependencies and import the dataset, i.e.: Qubit Hamiltonian in terms of Pauli (string) bases"
   ]
  },
  {
   "cell_type": "code",
   "execution_count": 1,
   "id": "acb46372",
   "metadata": {},
   "outputs": [
    {
     "name": "stdout",
     "output_type": "stream",
     "text": [
      "{'()': '(-187.63041421019528+0j)', \"((0, 'Z'),)\": '(0.04831322288376241+0j)', \"((1, 'Z'),)\": '(0.11376566187096011+0j)', \"((1, 'Y'), (2, 'Z'), (3, 'Y'))\": '(0.015421406434414281+0j)', \"((1, 'X'), (2, 'Z'), (3, 'X'))\": '(0.015421406434414281+0j)', \"((1, 'Y'), (2, 'Z'), (3, 'Z'), (4, 'Z'), (5, 'Y'))\": '(0.013708152913771532+0j)', \"((1, 'X'), (2, 'Z'), (3, 'Z'), (4, 'Z'), (5, 'X'))\": '(0.013708152913771532+0j)', \"((2, 'Z'),)\": '(0.08811361570154505+0j)', \"((2, 'Y'), (3, 'Z'), (4, 'Y'))\": '(0.01070441161656259+0j)', \"((2, 'X'), (3, 'Z'), (4, 'X'))\": '(0.01070441161656259+0j)', \"((3, 'Z'),)\": '(-0.01739930707931824+0j)', \"((3, 'Y'), (4, 'Z'), (5, 'Y'))\": '(0.0009306289712739703+0j)', \"((3, 'X'), (4, 'Z'), (5, 'X'))\": '(0.0009306289712739703+0j)', \"((4, 'Z'),)\": '(-0.05929637337331601+0j)', \"((5, 'Z'),)\": '(-0.0958575197646896+0j)', \"((0, 'Z'), (1, 'Z'))\": '(0.07552358937978539+0j)', \"((0, 'Z'), (1, 'Y'), (2, 'Z'), (3, 'Y'))\": '(0.024398960970408744+0j)', \"((0, 'Z'), (1, 'X'), (2, 'Z'), (3, 'X'))\": '(0.024398960970408744+0j)', \"((0, 'Z'), (1, 'Y'), (2, 'Z'), (3, 'Z'), (4, 'Z'), (5, 'Y'))\": '(0.0037403972559761477+0j)', \"((0, 'Z'), (1, 'X'), (2, 'Z'), (3, 'Z'), (4, 'Z'), (5, 'X'))\": '(0.0037403972559761477+0j)', \"((0, 'Z'), (2, 'Z'))\": '(0.07354273898304513+0j)', \"((0, 'Z'), (2, 'Y'), (3, 'Z'), (4, 'Y'))\": '(0.022185537833549488+0j)', \"((0, 'Z'), (2, 'X'), (3, 'Z'), (4, 'X'))\": '(0.022185537833549488+0j)', \"((0, 'Z'), (3, 'Z'))\": '(0.0936286269165088+0j)', \"((0, 'Z'), (3, 'Y'), (4, 'Z'), (5, 'Y'))\": '(-0.02994641370495954+0j)', \"((0, 'Z'), (3, 'X'), (4, 'Z'), (5, 'X'))\": '(-0.02994641370495954+0j)', \"((0, 'Z'), (4, 'Z'))\": '(0.09037732285502581+0j)', \"((0, 'Z'), (5, 'Z'))\": '(0.08651241495719719+0j)', \"((1, 'Z'), (2, 'Z'))\": '(0.10345999677151292+0j)', \"((1, 'Y'), (3, 'Y'))\": '(-0.004302877251064749+0j)', \"((1, 'X'), (3, 'X'))\": '(-0.004302877251064749+0j)', \"((1, 'Y'), (3, 'Z'), (4, 'Z'), (5, 'Y'))\": '(-0.0016645169334828943+0j)', \"((1, 'X'), (3, 'Z'), (4, 'Z'), (5, 'X'))\": '(-0.0016645169334828943+0j)', \"((1, 'Z'), (2, 'Y'), (3, 'Z'), (4, 'Y'))\": '(-0.004302877251064749+0j)', \"((1, 'Z'), (2, 'X'), (3, 'Z'), (4, 'X'))\": '(-0.004302877251064749+0j)', \"((1, 'Y'), (2, 'X'), (3, 'X'), (4, 'Y'))\": '(0.025631828090413148+0j)', \"((1, 'Y'), (2, 'Y'), (3, 'X'), (4, 'X'))\": '(-0.025631828090413148+0j)', \"((1, 'X'), (2, 'X'), (3, 'Y'), (4, 'Y'))\": '(-0.025631828090413148+0j)', \"((1, 'X'), (2, 'Y'), (3, 'Y'), (4, 'X'))\": '(0.025631828090413148+0j)', \"((1, 'Y'), (2, 'X'), (4, 'X'), (5, 'Y'))\": '(0.009779016292942855+0j)', \"((1, 'Y'), (2, 'Y'), (4, 'Y'), (5, 'Y'))\": '(0.009779016292942855+0j)', \"((1, 'X'), (2, 'X'), (4, 'X'), (5, 'X'))\": '(0.009779016292942855+0j)', \"((1, 'X'), (2, 'Y'), (4, 'Y'), (5, 'X'))\": '(0.009779016292942855+0j)', \"((1, 'Z'), (3, 'Z'))\": '(0.06623586591880559+0j)', \"((1, 'Z'), (3, 'Y'), (4, 'Z'), (5, 'Y'))\": '(0.007230174383898056+0j)', \"((1, 'Z'), (3, 'X'), (4, 'Z'), (5, 'X'))\": '(0.007230174383898056+0j)', \"((1, 'Y'), (2, 'Z'), (4, 'Z'), (5, 'Y'))\": '(-0.014057274120380667+0j)', \"((1, 'X'), (2, 'Z'), (4, 'Z'), (5, 'X'))\": '(-0.014057274120380667+0j)', \"((1, 'Z'), (4, 'Z'))\": '(0.09186769400921874+0j)', \"((1, 'Y'), (2, 'Z'), (3, 'Y'), (4, 'Z'))\": '(0.00301930308322496+0j)', \"((1, 'X'), (2, 'Z'), (3, 'X'), (4, 'Z'))\": '(0.00301930308322496+0j)', \"((1, 'Y'), (2, 'Z'), (3, 'Z'), (5, 'Y'))\": '(0.00242510445822258+0j)', \"((1, 'X'), (2, 'Z'), (3, 'Z'), (5, 'X'))\": '(0.00242510445822258+0j)', \"((1, 'Z'), (5, 'Z'))\": '(0.07197716595417046+0j)', \"((1, 'Y'), (2, 'Z'), (3, 'Y'), (5, 'Z'))\": '(0.0016552725702235812+0j)', \"((1, 'X'), (2, 'Z'), (3, 'X'), (5, 'Z'))\": '(0.0016552725702235812+0j)', \"((2, 'Z'), (3, 'Z'))\": '(0.09186769400921874+0j)', \"((2, 'Y'), (4, 'Y'))\": '(0.00301930308322496+0j)', \"((2, 'X'), (4, 'X'))\": '(0.00301930308322496+0j)', \"((2, 'Z'), (3, 'Y'), (4, 'Z'), (5, 'Y'))\": '(0.01700919067684091+0j)', \"((2, 'Z'), (3, 'X'), (4, 'Z'), (5, 'X'))\": '(0.01700919067684091+0j)', \"((2, 'Y'), (3, 'X'), (4, 'X'), (5, 'Y'))\": '(-0.01648237857860325+0j)', \"((2, 'Y'), (3, 'Y'), (4, 'X'), (5, 'X'))\": '(0.01648237857860325+0j)', \"((2, 'X'), (3, 'X'), (4, 'Y'), (5, 'Y'))\": '(0.01648237857860325+0j)', \"((2, 'X'), (3, 'Y'), (4, 'Y'), (5, 'X'))\": '(-0.01648237857860325+0j)', \"((2, 'Z'), (4, 'Z'))\": '(0.06623586591880559+0j)', \"((2, 'Z'), (5, 'Z'))\": '(0.09564836172684454+0j)', \"((2, 'Y'), (3, 'Z'), (4, 'Y'), (5, 'Z'))\": '(0.004158844251215964+0j)', \"((2, 'X'), (3, 'Z'), (4, 'X'), (5, 'Z'))\": '(0.004158844251215964+0j)', \"((3, 'Z'), (4, 'Z'))\": '(0.09783328646292214+0j)', \"((3, 'Y'), (5, 'Y'))\": '(-0.006637680596020705+0j)', \"((3, 'X'), (5, 'X'))\": '(-0.006637680596020705+0j)', \"((3, 'Z'), (5, 'Z'))\": '(0.05748929553094263+0j)', \"((4, 'Z'), (5, 'Z'))\": '(0.09613505776345765+0j)'}\n"
     ]
    }
   ],
   "source": [
    "import json\n",
    "\n",
    "with open (\"acrolein_qubit.json\",\"r\") as file:\n",
    "    data = json.load(file)\n",
    "\n",
    "print(data)"
   ]
  },
  {
   "cell_type": "markdown",
   "id": "887c9e6a",
   "metadata": {},
   "source": [
    "We create the SparePauliOp object to store the Hamiltonian/Observable:"
   ]
  },
  {
   "cell_type": "code",
   "execution_count": null,
   "id": "6b8852eb",
   "metadata": {},
   "outputs": [
    {
     "name": "stdout",
     "output_type": "stream",
     "text": [
      "[('IIIIII', '-187.63041421019528+0j'), ('ZIIIII', '0.04831322288376241+0j'), ('IZIIII', '0.11376566187096011+0j'), ('IYZYII', '0.015421406434414281+0j'), ('IXZXII', '0.015421406434414281+0j'), ('IYZZZY', '0.013708152913771532+0j'), ('IXZZZX', '0.013708152913771532+0j'), ('IIZIII', '0.08811361570154505+0j'), ('IIYZYI', '0.01070441161656259+0j'), ('IIXZXI', '0.01070441161656259+0j'), ('IIIZII', '-0.01739930707931824+0j'), ('IIIYZY', '0.0009306289712739703+0j'), ('IIIXZX', '0.0009306289712739703+0j'), ('IIIIZI', '-0.05929637337331601+0j'), ('IIIIIZ', '-0.0958575197646896+0j'), ('ZZIIII', '0.07552358937978539+0j'), ('ZYZYII', '0.024398960970408744+0j'), ('ZXZXII', '0.024398960970408744+0j'), ('ZYZZZY', '0.0037403972559761477+0j'), ('ZXZZZX', '0.0037403972559761477+0j'), ('ZIZIII', '0.07354273898304513+0j'), ('ZIYZYI', '0.022185537833549488+0j'), ('ZIXZXI', '0.022185537833549488+0j'), ('ZIIZII', '0.0936286269165088+0j'), ('ZIIYZY', '-0.02994641370495954+0j'), ('ZIIXZX', '-0.02994641370495954+0j'), ('ZIIIZI', '0.09037732285502581+0j'), ('ZIIIIZ', '0.08651241495719719+0j'), ('IZZIII', '0.10345999677151292+0j'), ('IYIYII', '-0.004302877251064749+0j'), ('IXIXII', '-0.004302877251064749+0j'), ('IYIZZY', '-0.0016645169334828943+0j'), ('IXIZZX', '-0.0016645169334828943+0j'), ('IZYZYI', '-0.004302877251064749+0j'), ('IZXZXI', '-0.004302877251064749+0j'), ('IYXXYI', '0.025631828090413148+0j'), ('IYYXXI', '-0.025631828090413148+0j'), ('IXXYYI', '-0.025631828090413148+0j'), ('IXYYXI', '0.025631828090413148+0j'), ('IYXIXY', '0.009779016292942855+0j'), ('IYYIYY', '0.009779016292942855+0j'), ('IXXIXX', '0.009779016292942855+0j'), ('IXYIYX', '0.009779016292942855+0j'), ('IZIZII', '0.06623586591880559+0j'), ('IZIYZY', '0.007230174383898056+0j'), ('IZIXZX', '0.007230174383898056+0j'), ('IYZIZY', '-0.014057274120380667+0j'), ('IXZIZX', '-0.014057274120380667+0j'), ('IZIIZI', '0.09186769400921874+0j'), ('IYZYZI', '0.00301930308322496+0j'), ('IXZXZI', '0.00301930308322496+0j'), ('IYZZIY', '0.00242510445822258+0j'), ('IXZZIX', '0.00242510445822258+0j'), ('IZIIIZ', '0.07197716595417046+0j'), ('IYZYIZ', '0.0016552725702235812+0j'), ('IXZXIZ', '0.0016552725702235812+0j'), ('IIZZII', '0.09186769400921874+0j'), ('IIYIYI', '0.00301930308322496+0j'), ('IIXIXI', '0.00301930308322496+0j'), ('IIZYZY', '0.01700919067684091+0j'), ('IIZXZX', '0.01700919067684091+0j'), ('IIYXXY', '-0.01648237857860325+0j'), ('IIYYXX', '0.01648237857860325+0j'), ('IIXXYY', '0.01648237857860325+0j'), ('IIXYYX', '-0.01648237857860325+0j'), ('IIZIZI', '0.06623586591880559+0j'), ('IIZIIZ', '0.09564836172684454+0j'), ('IIYZYZ', '0.004158844251215964+0j'), ('IIXZXZ', '0.004158844251215964+0j'), ('IIIZZI', '0.09783328646292214+0j'), ('IIIYIY', '-0.006637680596020705+0j'), ('IIIXIX', '-0.006637680596020705+0j'), ('IIIZIZ', '0.05748929553094263+0j'), ('IIIIZZ', '0.09613505776345765+0j')]\n"
     ]
    }
   ],
   "source": [
    "from qiskit.quantum_info import SparsePauliOp\n",
    "\n",
    "n_qubits = 6\n",
    "qubit_hamiltonian_terms = []\n",
    "\n",
    "def generate_pauli_strings(data):\n",
    "    keys = []\n",
    "    pauli_strings=[]\n",
    "    for key, value in data.items():\n",
    "        keys.append(key[2:-2].split(\"), (\"))\n",
    "    for index,operators in enumerate(keys) :\n",
    "        if index == 0:\n",
    "            pauli_strings.append(\"I\"*n_qubits)\n",
    "            continue\n",
    "        pauli_string = list(\"I\"*n_qubits)\n",
    "        for pairs in operators:\n",
    "            pauli_string[int(pairs[0])] = pairs[4]\n",
    "        pauli_string = \"\".join(pauli_string)\n",
    "        pauli_strings.append(pauli_string)\n",
    "    #print(pauli_strings)\n",
    "\n",
    "    for index, value in enumerate(data.values()):\n",
    "        qubit_hamiltonian_terms.append(tuple([pauli_strings[index],value[1:-1]]))\n",
    "\n",
    "generate_pauli_strings(data)\n",
    "print(qubit_hamiltonian_terms)\n",
    "\n",
    "qubit_hamiltonian = SparsePauliOp.from_list(qubit_hamiltonian_terms)"
   ]
  },
  {
   "cell_type": "markdown",
   "id": "c2b058d0",
   "metadata": {},
   "source": [
    "Next we construct initialize the circuit and use Two-Local ansatz -- _Refer [here](https://docs.quantum.ibm.com/api/qiskit/qiskit.circuit.library.TwoLocal) for details._\n",
    "\n",
    "<!-- Next we construct initial Hartree-Fock (HF) state $|111000\\rangle$ and we use Two-Local ansatz -- _Refer [here](https://docs.quantum.ibm.com/api/qiskit/qiskit.circuit.library.TwoLocal) for details._ -->\n",
    "\n",
    "<!-- we use Unitary Coupled-Cluster Singles and Doubles (UCCSD) ansatz. -- _Refer [here](https://docs.pennylane.ai/en/stable/code/api/pennylane.UCCSD.html) for details._  -->"
   ]
  },
  {
   "cell_type": "code",
   "execution_count": null,
   "id": "c49fffd6",
   "metadata": {},
   "outputs": [
    {
     "name": "stdout",
     "output_type": "stream",
     "text": [
      "     »\n",
      "q_0: »\n",
      "     »\n",
      "q_1: »\n",
      "     »\n",
      "q_2: »\n",
      "     »\n",
      "q_3: »\n",
      "     »\n",
      "q_4: »\n",
      "     »\n",
      "q_5: »\n",
      "     »\n",
      "«     ┌──────────────────────────────────────────────────────────────────────────────────────────────────────────────────────────────────────────────────────────────────────────────────────────────────────────────────────────┐\n",
      "«q_0: ┤0                                                                                                                                                                                                                         ├\n",
      "«     │                                                                                                                                                                                                                          │\n",
      "«q_1: ┤1                                                                                                                                                                                                                         ├\n",
      "«     │                                                                                                                                                                                                                          │\n",
      "«q_2: ┤2                                                                                                                                                                                                                         ├\n",
      "«     │  TwoLocal(θ[0],θ[1],θ[2],θ[3],θ[4],θ[5],θ[6],θ[7],θ[8],θ[9],θ[10],θ[11],θ[12],θ[13],θ[14],θ[15],θ[16],θ[17],θ[18],θ[19],θ[20],θ[21],θ[22],θ[23],θ[24],θ[25],θ[26],θ[27],θ[28],θ[29],θ[30],θ[31],θ[32],θ[33],θ[34],θ[35]) │\n",
      "«q_3: ┤3                                                                                                                                                                                                                         ├\n",
      "«     │                                                                                                                                                                                                                          │\n",
      "«q_4: ┤4                                                                                                                                                                                                                         ├\n",
      "«     │                                                                                                                                                                                                                          │\n",
      "«q_5: ┤5                                                                                                                                                                                                                         ├\n",
      "«     └──────────────────────────────────────────────────────────────────────────────────────────────────────────────────────────────────────────────────────────────────────────────────────────────────────────────────────────┘\n"
     ]
    }
   ],
   "source": [
    "import qiskit\n",
    "import numpy as np\n",
    "from qiskit_aer import AerSimulator\n",
    "from qiskit_aer.primitives import Estimator\n",
    "from qiskit.circuit.library import TwoLocal\n",
    "# from qiskit_nature.second_q.circuit.library import UCCSD\n",
    "# from qiskit_nature.second_q.mappers import JordanWignerMapper\n",
    "\n",
    "aer = AerSimulator()\n",
    "estimator = Estimator()\n",
    "\n",
    "# #UCCSD ansatz\n",
    "# uccsd_ansatz = UCCSD(\n",
    "#     num_spatial_orbitals=3,\n",
    "#     num_particles=(1,2),\n",
    "#     initial_state=qc,\n",
    "#     qubit_mapper=JordanWignerMapper(),\n",
    "# )\n",
    "# print(uccsd_ansatz)\n",
    "\n",
    "two_local_ansatz = TwoLocal(6, rotation_blocks=[\"ry\", \"rz\"], entanglement_blocks='cz', reps=2)  #36 parameters\n",
    "print(two_local_ansatz)"
   ]
  },
  {
   "cell_type": "markdown",
   "id": "be2a279c",
   "metadata": {},
   "source": [
    "As per VQD, we would require Qubit Hamiltonian $H$ to classically optimize and minimize the cost function $\\mathcal{C}$ defined as:\n",
    "\n",
    "$$\\mathcal{C}(\\lambda_k) = \\langle \\psi(\\lambda_k) | H | \\psi(\\lambda_k) \\rangle + \\sum_i^{k-1} \\beta_i |\\langle \\psi(\\lambda_k)|\\psi(\\lambda_i)\\rangle |^2$$\n",
    "\n",
    "where we have $H = \\sum_j c_j P_j$ in pauli string bases as obtained from previous procedures.\n",
    "\n"
   ]
  },
  {
   "cell_type": "markdown",
   "id": "f7bf67e4",
   "metadata": {},
   "source": [
    "Thus, we define our cost function, initialize the circuit and run our VQD. "
   ]
  },
  {
   "cell_type": "code",
   "execution_count": null,
   "id": "017a991a",
   "metadata": {},
   "outputs": [
    {
     "name": "stdout",
     "output_type": "stream",
     "text": [
      "Our VQD Results:\n",
      "State 0: -188.064080\n",
      "State 1: -187.969554\n",
      "State 2: -187.649179\n"
     ]
    }
   ],
   "source": [
    "from scipy.optimize import minimize\n",
    "from qiskit.quantum_info import Statevector\n",
    "from qiskit.primitives import Estimator as Es\n",
    "\n",
    "number_of_calculated_states = 3\n",
    "\n",
    "params = np.zeros(two_local_ansatz.num_parameters)\n",
    "beta = 10       #large penalty term for convergence\n",
    "\n",
    "def cost_function(params,k) :\n",
    "    ground_cost = estimator.run(circuits=two_local_ansatz, parameter_values=params, observables=qubit_hamiltonian).result().values[0]\n",
    "    if k == 0 :\n",
    "        return ground_cost\n",
    "    current_state = Statevector(two_local_ansatz.assign_parameters(params)).data\n",
    "    overlap = 0\n",
    "    for i in range(len(corresponding_statevector)):\n",
    "        overlap += np.abs(np.vdot(corresponding_statevector[i], current_state)) ** 2\n",
    "    cost = ground_cost + beta*overlap\n",
    "    return cost                           \n",
    "\n",
    "primitive_estimator = Es()\n",
    "\n",
    "corresponding_statevector = []\n",
    "corresponding_parameters = []\n",
    "cost = []\n",
    "energy = []\n",
    "for i in range(number_of_calculated_states):\n",
    "    result = minimize(cost_function,params,args=i,method=\"COBYLA\")   \n",
    "    cost.append(result.fun)\n",
    "    corresponding_parameters.append(result.x)\n",
    "    corresponding_statevector.append(Statevector(two_local_ansatz.assign_parameters(corresponding_parameters[i])).data)\n",
    "    energy.append(primitive_estimator.run(circuits=two_local_ansatz, parameter_values=corresponding_parameters[i], observables=qubit_hamiltonian).result().values[0])\n",
    "\n",
    "print(\"Our VQD Results:\")\n",
    "for i, energy in enumerate(energy):\n",
    "    print(f\"State {i}: {energy.real:.6f}\")"
   ]
  },
  {
   "cell_type": "markdown",
   "id": "1d54c85b",
   "metadata": {},
   "source": [
    "## Cross-check"
   ]
  },
  {
   "cell_type": "markdown",
   "id": "8b34dfe2",
   "metadata": {},
   "source": [
    "Let's compare results from our framework with the predefined VQD algorithm in Qiskit as well as exact energies of Acrolein obtained from classical diagonalization. "
   ]
  },
  {
   "cell_type": "markdown",
   "id": "03a2e0d6",
   "metadata": {},
   "source": [
    "### Predefined Qiskit VQD"
   ]
  },
  {
   "cell_type": "code",
   "execution_count": null,
   "id": "1ae790b9",
   "metadata": {},
   "outputs": [
    {
     "name": "stdout",
     "output_type": "stream",
     "text": [
      "Qiskit VQD Results:\n",
      "State 0: -188.163991\n",
      "State 1: -185.976269\n",
      "State 2: -178.248917\n"
     ]
    }
   ],
   "source": [
    "from qiskit_algorithms.optimizers import COBYLA\n",
    "from qiskit.circuit.library import TwoLocal\n",
    "from qiskit_algorithms import VQD\n",
    "from qiskit_algorithms.state_fidelities import ComputeUncompute\n",
    "from qiskit_aer.primitives import Sampler\n",
    "\n",
    "ansatz = TwoLocal(6, rotation_blocks=[\"ry\", \"rz\"], entanglement_blocks='cz', reps=2)\n",
    "optimizer = COBYLA()                # very good (unconstrained) optimizer - works really well with Two Local ansatz \n",
    "\n",
    "# Set up Predefined VQD\n",
    "sampler = Sampler()\n",
    "estimator = Estimator()\n",
    "fidelity = ComputeUncompute(sampler)\n",
    "vqd = VQD(estimator=estimator, fidelity=fidelity, ansatz=ansatz, optimizer=optimizer, k=3)  # Ground + 1st excited state + 2nd excited state\n",
    "\n",
    "result = vqd.compute_eigenvalues(qubit_hamiltonian)\n",
    "\n",
    "print(\"Qiskit VQD Results:\")\n",
    "for i, energy in enumerate(result.eigenvalues):\n",
    "    print(f\"State {i}: {energy.real:.6f}\")"
   ]
  },
  {
   "cell_type": "markdown",
   "id": "728eeb9d",
   "metadata": {},
   "source": [
    "### Exact Energies from classical diagonalization "
   ]
  },
  {
   "cell_type": "code",
   "execution_count": null,
   "id": "9b5a7049",
   "metadata": {},
   "outputs": [
    {
     "name": "stdout",
     "output_type": "stream",
     "text": [
      "Exact Results:\n",
      "Ground state energy: -188.32366518930124\n",
      "First excited state: -188.18885237429478\n",
      "Second excited state: -188.14305168081395\n"
     ]
    }
   ],
   "source": [
    "from scipy.linalg import eigh \n",
    "\n",
    "H_dense = qubit_hamiltonian.to_matrix()\n",
    "eigenvalue, eigenvectors = eigh(H_dense)\n",
    "\n",
    "print(\"Exact Results:\")\n",
    "print(\"Ground state energy:\", eigenvalue[0])\n",
    "print(\"First excited state:\", eigenvalue[1])\n",
    "print(\"Second excited state:\", eigenvalue[2])\n"
   ]
  },
  {
   "cell_type": "markdown",
   "id": "96853ef8",
   "metadata": {},
   "source": [
    "Note that the classical diagonalization above is performed on truncated Hamiltonian with frozen orbitals. -- _Same goes to the VQDs above_\n",
    "\n",
    "Thus, these calculated energies would definitely _deviate_ from actual exact energies obtained from spectroscopy techniques, i.e.: via experiments."
   ]
  },
  {
   "cell_type": "markdown",
   "id": "ca3ed6df",
   "metadata": {},
   "source": [
    "## Post-processing and Analysis \n",
    "\n",
    "Note that Ground state energy from our VQD is 0.25958518930124796 higher than exact ground state obtained from classical diagonalization. Since the calculation of excited states are dependent on prior determined states. We could account for the error in ground state approximation, to inspect the actual deviation of excited states from exact classical diagonalizations.\n",
    "\n",
    "### Our Post-processed VQD results:\n",
    "\n",
    "State 1: -187.969554-0.25958518930124796 = -188.22913918930124\n",
    "\n",
    "* First excited state deviates $\\sim 0.02\\%$ from exact first excited state\n",
    "\n",
    "Repeating this for second excited state: \n",
    "\n",
    "State 2: -187.649179-0.25958518930124796-0.04028681500645348 = -187.9490510043077\n",
    "\n",
    "* Second excited state deviates $\\sim 0.1\\%$ from exact second excited state\n",
    "\n",
    "### Our VQD Energy Gap vs Exact Energy Gap:\n",
    "\n",
    "* 0 -> 1 : (Our VQD) 0.09452600000000189 vs (Exact Gap) 0.13481281500645537\n",
    "* 1 -> 2 : (Our VQD) 0.3203749999999843 vs (Exact Gap) 0.04580069348082816\n"
   ]
  },
  {
   "cell_type": "markdown",
   "id": "90c8827a",
   "metadata": {},
   "source": [
    "## Conclusion \n",
    "\n",
    "* Our VQD is good. - It has faster computation speed (though we could augment and respect Qubit-wise Commutativity (QWC) for even faster and efficient quantum simulation), and approximately equal excited state approximations when compared to exact diagonalization results.\n",
    "\n",
    "- Predefined VQD from Qiskit sometimes fails to give reasonable results for excited states (if we do not have a good ansatz and a synchronized optimizer), on top of slow computation speed. \n",
    "\n",
    "- Our VQD procedure/framework achieves similar ground state energy approximations with the predefined VQD, and on average deviates about $\\sim 0.1\\%$ from exact ground state energy obtained from classical diagonalization. In the meantime, predefined Qiskit VQD has relatively low accuracy in approximating first and second excited states as seen in results above.\n",
    "\n",
    "- VQD would be useful for Hamiltonian that is hard to classically diagonalize -- allowing us to access orthogonal subspaces in order to search for excited states, otherwise classical diagonalization is more efficient and sufficient for Hamiltonians truncated to small active space (few spatial orbitals)\n",
    "\n",
    "- Nonetheless, our VQD procedure could be further enhanced and scaled to solve larger Hamiltonians (or rather full-spectrum Hamiltonians), and our VQD is indeed a proof-of-concept."
   ]
  }
 ],
 "metadata": {
  "kernelspec": {
   "display_name": "Python 3",
   "language": "python",
   "name": "python3"
  },
  "language_info": {
   "codemirror_mode": {
    "name": "ipython",
    "version": 3
   },
   "file_extension": ".py",
   "mimetype": "text/x-python",
   "name": "python",
   "nbconvert_exporter": "python",
   "pygments_lexer": "ipython3",
   "version": "3.10.7"
  }
 },
 "nbformat": 4,
 "nbformat_minor": 5
}
